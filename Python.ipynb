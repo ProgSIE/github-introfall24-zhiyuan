{
 "cells": [
  {
   "cell_type": "markdown",
   "metadata": {},
   "source": [
    "# Python Programming\n",
    "\n",
    "Some contents are inspired by Stanford [CS231N Python tutorial notebook](https://colab.research.google.com/github/cs231n/cs231n.github.io/blob/master/python-colab.ipynb#scrollTo=9t1gKp9PL9eV) and [CS229 Python Tutorial](https://docs.google.com/spreadsheets/d/1sEu4ygD5HWxaqjvbR2nsjvG6NBoW5tRW/edit?gid=348511794#gid=348511794&range=F12)\n",
    "\n",
    "In this notebook we cover:\n",
    "\n",
    "* [Basic Python](#Basic-Python)\n",
    "   * [How Python works](#How-Python-works)\n",
    "   * [Reserved words](#Reserved-words)\n",
    "   * [\"==\" vs \"=\"](#\"==\"-vs-\"=\")\n",
    "   * [If Statement](#If-Statement)\n",
    "   * [Python Operators](#Python-Operators)\n",
    "   * [Loops](#Loop)\n",
    "   * [Functions](#Function)\n",
    "* [Python Data Types](#Python-Data-Types)\n",
    "   * [String](#String)\n",
    "   * [List](#List)\n",
    "   * [Tuple](#Tuple)\n",
    "   * [Set/Dictionary](#Dictionary/Set)\n",
    "* [Numpy](#Numpy)\n",
    "   * [Array (matrix) initialization](#Array-initialization)\n",
    "   * [Shape](#Array-shape)\n",
    "   * [Numpy Math](#Numpy-math)\n",
    "* [Visualization](#Matplotlib)\n",
    "    * [Simple plotting (line, scatter)](#Simple-plotting)\n",
    "    * [Confusion matrix](#Confusion-matrix)\n",
    "    * [Show images](#Show-image)\n",
    "* [Pandas](#Pandas)\n",
    "    * [Load/Save](#File-operations)\n",
    "    * [Manipulations](#Manipulations)\n",
    "    * [Create from scratch](#Create-dataframe)\n",
    "    * [Plotting](#Simple-plotting)\n",
    "* [Play with Your Data](#Play-with-Your-Data)\n",
    "    * [Load data](#Load-data)\n",
    "    * [Analyze data](#Analyze-data)\n",
    "    * [Filter data](#Filter-data)\n",
    "    * [Plot data](#Plot-data)\n",
    "    * [Save data](#Save-data)\n"
   ]
  },
  {
   "cell_type": "markdown",
   "metadata": {},
   "source": [
    "## Basic Python"
   ]
  },
  {
   "cell_type": "markdown",
   "metadata": {},
   "source": [
    "### How Python works\n",
    "\n",
    "Python is an interpreted language, which means that it runs **line by line**, and the interpreter checks for syntax errors. \n",
    "\n",
    "Python is a high-level language, which means that it is easier to read and write than lower-level languages such as C++ or Java. (What does \"high-level\" mean? [Link](https://www.techopedia.com/definition/3925/high-level-language-hll))\n",
    "\n",
    "Python is a free and open-source language, which means that it is free to use and modify. Due to its popularity, there is a large community support for Python, and many third-party libraries are available.\n",
    "\n",
    "\n"
   ]
  },
  {
   "cell_type": "markdown",
   "metadata": {},
   "source": [
    "### Reserved words\n",
    "\n",
    "When naming your Python functions, variables, etc., you should avoid reserved function names such as `print()`, `len()`, `range()`, etc., system variables such as `True`, `False`, `None`, and built-in variables such as `pi`, `e`, etc, as well as reserved words such as `if`, `else`, `for`, `while`, `def`, `return`, `import`, `from`, `as`, etc.\n",
    "\n",
    "\n"
   ]
  },
  {
   "cell_type": "markdown",
   "metadata": {},
   "source": [
    "### \"==\" vs \"=\"\n",
    "\n",
    "\"==\" is used for comparison, while \"=\" is used for assignment.\n"
   ]
  },
  {
   "cell_type": "code",
   "execution_count": 1,
   "metadata": {},
   "outputs": [
    {
     "name": "stdout",
     "output_type": "stream",
     "text": [
      "False\n",
      "True\n",
      "10\n",
      "8\n"
     ]
    }
   ],
   "source": [
    "# Initialize/assign variables\n",
    "a = 10\n",
    "b = 8\n",
    "\n",
    "# Compare a and b\n",
    "print(a == b)\n",
    "\n",
    "\n",
    "# Compare a and 10\n",
    "print(a == 10)\n",
    "\n",
    "# Try to assign b to a - is it correct if we use \"==\"\n",
    "a == 8 \n",
    "print(a)\n",
    "\n",
    "a = 8\n",
    "print(a)"
   ]
  },
  {
   "cell_type": "markdown",
   "metadata": {},
   "source": [
    "### If Statement"
   ]
  },
  {
   "cell_type": "code",
   "execution_count": null,
   "metadata": {},
   "outputs": [],
   "source": [
    "# input a course number and see if it is 3501\n",
    "\n",
    "course_number = 3501\n",
    "# we can also use input() to get user input\n",
    "# course_number = int(input(\"Please enter a course number: \"))\n",
    "\n",
    "if course_number == 2001:\n",
    "    print(\"This is another required course but not Programming for Information Engineering\")\n",
    "elif course_number == 3501:\n",
    "    print(\"This is Programming for Information Engineering course\")\n",
    "else:\n",
    "    print(\"This is not a wanted course\")\n"
   ]
  },
  {
   "cell_type": "markdown",
   "metadata": {},
   "source": [
    "### Python Operators"
   ]
  },
  {
   "cell_type": "code",
   "execution_count": null,
   "metadata": {},
   "outputs": [],
   "source": [
    "# Logical operators\n",
    "true = True\n",
    "false = False\n",
    "\n",
    "print(true and false)\n",
    "print(true & false)\n",
    "\n",
    "print(true or false)\n",
    "print(true | false)\n",
    "\n",
    "print(not true)\n",
    "print(true and not false)\n",
    "print(false or not true)\n",
    "\n"
   ]
  },
  {
   "cell_type": "code",
   "execution_count": null,
   "metadata": {},
   "outputs": [],
   "source": [
    "# Comparison operators\n",
    "a = 10\n",
    "b = 20\n",
    "print(a == b)\n",
    "print(a != b)\n",
    "print(a > b)\n",
    "print(a < b)\n",
    "print(a >= b)\n",
    "print(a <= b)"
   ]
  },
  {
   "cell_type": "code",
   "execution_count": null,
   "metadata": {},
   "outputs": [],
   "source": [
    "# Arithmetic operators\n",
    "a = 10\n",
    "b = 3\n",
    "a += b # equivalent to a = a + b\n",
    "print(a)\n",
    "a -= b \n",
    "print(a)\n",
    "a *= b \n",
    "print(a)    \n",
    "a /= b \n",
    "print(a)\n",
    "a %= b\n",
    "print(a)\n",
    "a //= b\n",
    "print(a)\n",
    "a **= b\n",
    "print(a)"
   ]
  },
  {
   "cell_type": "markdown",
   "metadata": {},
   "source": [
    "### Loop\n"
   ]
  },
  {
   "cell_type": "code",
   "execution_count": null,
   "metadata": {},
   "outputs": [],
   "source": [
    "# For loop\n",
    "# In Python, a loop using \"range(x)\" starts from 0 (versus 1 in R) and ends at x-1.\n",
    "for i in range(5):\n",
    "    print(i)\n",
    "\n",
    "print(\"---\")\n",
    "\n",
    "# In python, \"for\" loop can also iterate over a list\n",
    "for name in [\"Google\", \"Meta\", \"Apple\", \"Microsoft\", \"Amazon\"]:\n",
    "    print(name)\n",
    "\n",
    "print(\"---\")\n",
    "\n",
    "# While loop: the loop continues as long as the condition is true\n",
    "i = 0\n",
    "while i < 5: # i is the condition\n",
    "    print(i)\n",
    "    i += 1 # update i\n",
    "\n",
    "print(\"---\")\n",
    "\n",
    "# Break and continue\n",
    "for i in range(5):\n",
    "    if i == 1:\n",
    "        continue\n",
    "    if i == 4:\n",
    "        break\n",
    "    print(i)\n",
    "\n"
   ]
  },
  {
   "cell_type": "markdown",
   "metadata": {},
   "source": [
    "### Functions"
   ]
  },
  {
   "cell_type": "code",
   "execution_count": null,
   "metadata": {},
   "outputs": [],
   "source": [
    "# Define a function\n",
    "def print_name(name):\n",
    "    print(f\"Hello, {name}\")\n",
    "\n",
    "# Call a function\n",
    "print_name(\"Mary\")\n",
    "\n",
    "# Define a function with default argument\n",
    "def print_name(name=\"John\"):\n",
    "    print(f\"Hello, {name}\")\n",
    "\n",
    "# Call a function with default argument\n",
    "print_name()\n",
    "print_name(\"Mary\")"
   ]
  },
  {
   "cell_type": "code",
   "execution_count": null,
   "metadata": {},
   "outputs": [],
   "source": [
    "# Define a function to do some math\n",
    "# Define add_ab function - return a+b, a, b\n",
    "def add_ab(a, b=2):\n",
    "    return a + b, a, b\n",
    "\n",
    "print(add_ab(10))\n",
    "print(add_ab(10, 3))\n",
    "\n",
    "# Check the returned results\n",
    "result_tuple = add_ab(10, 3)\n",
    "print(result_tuple, type(result_tuple))  \n",
    "\n",
    "# Further unpack the returned results\n",
    "result, p, _ = add_ab(10, 3)\n",
    "print(result, type(result))  "
   ]
  },
  {
   "cell_type": "markdown",
   "metadata": {},
   "source": [
    "[A little bit of advanced usage]: Functions can support extra arguments. You can pass them on to another function, or make use of these directly.\n",
    "\n",
    "- args: variable number of non-keyworded arguments\n",
    "- kwargs: variable number of keyworded arguments"
   ]
  },
  {
   "cell_type": "code",
   "execution_count": null,
   "metadata": {},
   "outputs": [],
   "source": [
    "def my_function(a, b=2, *args, **kwargs):\n",
    "    print(\"print variable a, b\")\n",
    "    print(a, b)\n",
    "    if args:\n",
    "        print(\"print variable args\")\n",
    "        for arg in args:\n",
    "            print(arg)\n",
    "    if kwargs:\n",
    "        print(\"print variable kwargs\")\n",
    "        for key, value in kwargs.items():\n",
    "            print(key, value)\n",
    "\n",
    "print(\"run my_function(1,2)\")\n",
    "my_function(1,2)\n",
    "\n",
    "print(\"run my_function(1,2,3,4,5,name=John,age=20)\")\n",
    "my_function(1, 2, 3, 4, 5, name=\"John\", age=20)\n"
   ]
  },
  {
   "cell_type": "markdown",
   "metadata": {},
   "source": [
    "## Python Data Types"
   ]
  },
  {
   "cell_type": "markdown",
   "metadata": {},
   "source": [
    "### String\n",
    "See Python documentation [here](https://docs.python.org/3/library/string.html)"
   ]
  },
  {
   "cell_type": "code",
   "execution_count": null,
   "metadata": {},
   "outputs": [],
   "source": [
    "class_code_int = 3501\n",
    "class_code_str = \"3501\"\n",
    "class_name = \"Programming for Information Engineering\"\n",
    "\n",
    "print(class_code_int, type(class_code_int))\n",
    "print(class_code_str, type(class_code_str))\n",
    "\n",
    "# String operations\n",
    "print('I like SYS ' + class_code_int) # concatenation but wrong - debug it!\n",
    "print('I like SYS ' + class_code_str) # successful concatenation \n",
    "print(f'I like SYS {class_code_int} a lot!')\n",
    "print(f'I like SYS {class_code_str} a lot!')\n",
    "\n",
    "print(class_code_int * 3)\n",
    "print(class_code_str * 3)"
   ]
  },
  {
   "cell_type": "markdown",
   "metadata": {},
   "source": [
    "### List\n",
    "See Python documentation [here](https://docs.python.org/3/tutorial/datastructures.html#more-on-lists)\n",
    "\n"
   ]
  },
  {
   "cell_type": "code",
   "execution_count": null,
   "metadata": {},
   "outputs": [],
   "source": [
    "list_int = [1, 2, 3, 4, 5]\n",
    "list_str = [\"a\", \"b\", \"c\", \"d\", \"e\"]\n",
    "\n",
    "print(list_int, type(list_int))\n",
    "print(list_str, type(list_str))\n",
    "\n",
    "# List functions\n",
    "print(len(list_int))\n",
    "print(max(list_int))\n",
    "print(min(list_int))"
   ]
  },
  {
   "cell_type": "code",
   "execution_count": null,
   "metadata": {},
   "outputs": [],
   "source": [
    "# List operations\n",
    "print(list_int + list_str)\n",
    "print(list_int * 3)"
   ]
  },
  {
   "cell_type": "code",
   "execution_count": null,
   "metadata": {},
   "outputs": [],
   "source": [
    "# List indexing\n",
    "print(list_str[0])\n",
    "\n",
    "# List slicing\n",
    "print(list_str[0:3])"
   ]
  },
  {
   "cell_type": "code",
   "execution_count": null,
   "metadata": {},
   "outputs": [],
   "source": [
    "# List methods\n",
    "list_int.append(6)\n",
    "print(list_int)\n",
    "\n",
    "list_int.remove(4)\n",
    "print(list_int)\n"
   ]
  },
  {
   "cell_type": "code",
   "execution_count": null,
   "metadata": {},
   "outputs": [],
   "source": [
    "# List can be concatenated\n",
    "print(list_int * 3 + list_str)\n",
    "print(len(list_int * 3 + list_str))\n",
    "\n",
    "# List can contain different types of elements, even other lists\n",
    "print([list_int] * 3 + list_str)\n",
    "print(len([list_int] * 3 + list_str))\n"
   ]
  },
  {
   "cell_type": "code",
   "execution_count": null,
   "metadata": {},
   "outputs": [],
   "source": [
    "list_str = [\"a\", \"b\", \"c\", \"d\", \"e\"]\n",
    "\n",
    "for string in list_str:\n",
    "    print(string)"
   ]
  },
  {
   "cell_type": "code",
   "execution_count": null,
   "metadata": {},
   "outputs": [],
   "source": [
    "for index, string in enumerate(list_str):\n",
    "    print(f'{index}, {string}')"
   ]
  },
  {
   "cell_type": "code",
   "execution_count": null,
   "metadata": {},
   "outputs": [],
   "source": [
    "long_list = [i * 2 for i in range(10)]\n",
    "\n",
    "print(long_list)\n",
    "print(long_list[:5])\n",
    "print(long_list[:-1])\n",
    "print(long_list[4:-1])\n",
    "\n",
    "long_list[3:5] = [-1, -2]\n",
    "print(long_list)\n",
    "\n"
   ]
  },
  {
   "cell_type": "code",
   "execution_count": null,
   "metadata": {},
   "outputs": [],
   "source": [
    "long_list.pop()\n",
    "print(long_list)\n",
    "\n",
    "long_list.pop(2)\n",
    "print(long_list)\n",
    "\n",
    "long_list.insert(0, 100)\n",
    "print(long_list)"
   ]
  },
  {
   "cell_type": "code",
   "execution_count": null,
   "metadata": {},
   "outputs": [],
   "source": [
    "print(sorted(long_list))"
   ]
  },
  {
   "cell_type": "code",
   "execution_count": null,
   "metadata": {},
   "outputs": [],
   "source": [
    "import copy\n",
    "\n",
    "orig_list = [[1, 2], [3, 4]]\n",
    "dup_list = orig_list\n",
    "copy_list = copy.deepcopy(orig_list)\n",
    "\n",
    "dup_list[0][1] = 'okay'\n",
    "print(orig_list)\n",
    "print(dup_list)\n",
    "print(copy_list)"
   ]
  },
  {
   "cell_type": "markdown",
   "metadata": {},
   "source": [
    "### Tuple\n",
    "\n",
    "List that you **cannot** edit."
   ]
  },
  {
   "cell_type": "code",
   "execution_count": null,
   "metadata": {},
   "outputs": [],
   "source": [
    "my_tuple = (10, 20, 30)\n",
    "my_list = [10, 20, 30]\n",
    "\n",
    "my_tuple[0] = 40 # This will cause an error\n",
    "my_list[0] = 50 \n",
    "\n",
    "print(my_tuple)\n",
    "print(my_list)"
   ]
  },
  {
   "cell_type": "code",
   "execution_count": null,
   "metadata": {},
   "outputs": [],
   "source": [
    "# Tuple and list unpacking\n",
    "\n",
    "a, b, c = my_tuple\n",
    "print(f\"a={a}, b={b}, c={c}\")\n",
    "\n",
    "a, b, c = my_list\n",
    "print(f\"a={a}, b={b}, c={c}\")"
   ]
  },
  {
   "cell_type": "markdown",
   "metadata": {},
   "source": [
    "### Dictionary\n",
    "\n",
    "See Python documentation [here](https://docs.python.org/3/tutorial/datastructures.html#dictionaries)\n",
    "\n"
   ]
  },
  {
   "cell_type": "code",
   "execution_count": null,
   "metadata": {},
   "outputs": [],
   "source": [
    "# Initialize a dictionary\n",
    "john_dict = {\"name\": \"John\", \"age\": 20, \"city\": \"New York\"} # key-value pairs\n",
    "print(john_dict, type(john_dict))\n",
    "\n",
    "for key, value in john_dict.items(): # similar to for loop over enumerate(list)\n",
    "    print(key, value)\n",
    "\n",
    "# Dictionary operations\n",
    "print(len(john_dict))\n",
    "print(john_dict[\"city\"])\n",
    "\n",
    "health_record_dict = {\n",
    "    \"height\": 170,\n",
    "    \"weight\": 60,\n",
    "    \"blood_type\": \"A\",\n",
    "    \"allergies\": [\"pollen\", \"dust\", \"pet dander\"],\n",
    "    \"medical_history\": [\"flu\", \"cough\", \"cold\"],\n",
    "}\n",
    "\n",
    "john_dict.update(health_record_dict)\n",
    "\n",
    "print(john_dict)"
   ]
  },
  {
   "cell_type": "markdown",
   "metadata": {},
   "source": [
    "## Numpy\n",
    "\n",
    "[Numpy](https://numpy.org/) is a library for scientific computing in Python. It provides a high-performance multidimensional array object, and tools for working with these arrays."
   ]
  },
  {
   "cell_type": "code",
   "execution_count": null,
   "metadata": {},
   "outputs": [],
   "source": [
    "# Download Numpy if not installed\n",
    "!pip install numpy\n",
    "\n",
    "# Import Numpy\n",
    "import numpy as np"
   ]
  },
  {
   "cell_type": "markdown",
   "metadata": {},
   "source": [
    "### Array initialization"
   ]
  },
  {
   "cell_type": "code",
   "execution_count": null,
   "metadata": {},
   "outputs": [],
   "source": [
    "# Initialize a numpy array from an existing list\n",
    "a = np.array([1, 2, 3, 4, 5])\n",
    "print(a, type(a))\n",
    "\n",
    "# Initialize a numpy array with zeros, size 10\n",
    "a = np.zeros(10)\n",
    "print(a, type(a))\n",
    "\n"
   ]
  },
  {
   "cell_type": "code",
   "execution_count": null,
   "metadata": {},
   "outputs": [],
   "source": [
    "from_list_2d = np.array([[1, 2, 3.0], [4, 5, 6]])\n",
    "print(from_list_2d, type(from_list_2d))"
   ]
  },
  {
   "cell_type": "code",
   "execution_count": null,
   "metadata": {},
   "outputs": [],
   "source": [
    "from_list_bad_type = np.array([1, 2, 3, 'a'])\n",
    "print(from_list_bad_type, type(from_list_bad_type))"
   ]
  },
  {
   "cell_type": "code",
   "execution_count": null,
   "metadata": {},
   "outputs": [],
   "source": [
    "print(np.ones(3))\n",
    "print(np.ones((3, 3)))\n",
    "\n",
    "print(np.zeros(3))\n",
    "print(np.zeros((3, 3)))\n",
    "\n",
    "print(np.random.random(3)) # “random” number between 0 and 1\n",
    "print(np.random.random((3, 3)))\n",
    "\n",
    "print(np.random.randn(3, 3)) # “randn” number with mean 0 and std 1"
   ]
  },
  {
   "cell_type": "markdown",
   "metadata": {},
   "source": [
    "### Array shape\n",
    "\n",
    "Initialize, shape / reshape multi-dimentional array\n"
   ]
  },
  {
   "cell_type": "code",
   "execution_count": null,
   "metadata": {},
   "outputs": [],
   "source": [
    "array_1d = np.array([1, 2, 3, 4])\n",
    "array_1by4 = np.array([[1, 2, 3, 4]])\n",
    "array_2by4 = np.array([[1, 2, 3, 4], [5, 6, 7, 8]])\n",
    "\n",
    "print(array_1d.shape)\n",
    "print(array_1by4.shape)\n",
    "\n",
    "print(array_1d.reshape(-1, 4).shape)\n",
    "\n",
    "print(array_2by4.size)"
   ]
  },
  {
   "cell_type": "code",
   "execution_count": null,
   "metadata": {},
   "outputs": [],
   "source": [
    "large_array = np.array([i for i in range(400)])\n",
    "large_array = large_array.reshape((-1, 40))\n",
    "\n",
    "print(large_array.shape)\n",
    "print(large_array[:, 5])"
   ]
  },
  {
   "cell_type": "code",
   "execution_count": null,
   "metadata": {},
   "outputs": [],
   "source": [
    "large_3d_array = np.array([i for i in range(40)])\n",
    "print(large_3d_array)\n",
    "\n",
    "large_3d_array = large_3d_array.reshape((2, 2, 10))\n",
    "print(large_3d_array)\n",
    "\n",
    "large_3d_array = large_3d_array.transpose(2, 0, 1)\n",
    "\n",
    "print(large_3d_array)"
   ]
  },
  {
   "cell_type": "markdown",
   "metadata": {},
   "source": [
    "### Numpy Math"
   ]
  },
  {
   "cell_type": "code",
   "execution_count": null,
   "metadata": {},
   "outputs": [],
   "source": [
    "array_1 = np.array([1, 2, 3, 4])\n",
    "\n",
    "# element wise operations!!\n",
    "\n",
    "print(array_1 + 5)\n",
    "print(array_1 * 5)\n",
    "print(np.sqrt(array_1))\n",
    "print(np.power(array_1, 2))\n",
    "print(np.exp(array_1))"
   ]
  },
  {
   "cell_type": "code",
   "execution_count": null,
   "metadata": {},
   "outputs": [],
   "source": [
    "array_2d = np.array([[1, 2, 3], [4, 5, 6], [7, 8, 9]])\n",
    "\n",
    "print(array_2d)\n",
    "print(f'shape={array_2d.shape}')\n",
    "print(np.sum(array_2d))\n",
    "print(np.sum(array_2d, axis=0))\n",
    "print(np.sum(array_2d, axis=1))"
   ]
  },
  {
   "cell_type": "code",
   "execution_count": null,
   "metadata": {},
   "outputs": [],
   "source": [
    "array_3d = np.array([i for i in range(8)]).reshape((2, 2, 2))\n",
    "print(array_3d)\n",
    "\n",
    "print(np.sum(array_3d, axis=0))\n",
    "print(np.sum(array_3d, axis=1))\n",
    "print(np.sum(array_3d, axis=(1, 2)))"
   ]
  },
  {
   "cell_type": "code",
   "execution_count": null,
   "metadata": {},
   "outputs": [],
   "source": [
    "array_1 = np.array([i for i in range(10)]).reshape(2, 5)\n",
    "array_2 = np.array([10-i for i in range(10)]).reshape(2, 5)\n",
    "\n",
    "print(array_1, array_1.shape)\n",
    "print(array_2, array_2.shape)\n",
    "\n",
    "print(array_1 * array_2) # element wise multiplication\n",
    "print(array_1.T, array_1.T.shape) "
   ]
  },
  {
   "cell_type": "markdown",
   "metadata": {},
   "source": [
    "## Visualization\n",
    "\n",
    "\n",
    "**Matplotlib** is the most commonly used plotting library for Python. This section will be based on Matplotlib mostly.\n",
    "\n",
    "**Seaborn**, built up on Matplotlib, is another commonly used plotting library for Python. I personally find Seaborn's visualization more nice-looking.\n"
   ]
  },
  {
   "cell_type": "markdown",
   "metadata": {},
   "source": []
  },
  {
   "cell_type": "markdown",
   "metadata": {},
   "source": [
    "### Simple plotting"
   ]
  },
  {
   "cell_type": "code",
   "execution_count": null,
   "metadata": {},
   "outputs": [],
   "source": [
    "# Install Matplotlib and Seaborn if not installed\n",
    "# !pip install matplotlib\n",
    "# !pip install seaborn\n",
    "\n",
    "import matplotlib.pyplot as plt\n",
    "import seaborn as sns"
   ]
  },
  {
   "cell_type": "code",
   "execution_count": null,
   "metadata": {},
   "outputs": [],
   "source": [
    "x_values = np.arange(0, 5, 0.001)\n",
    "\n",
    "y1_values = np.sin(x_values * np.pi)\n",
    "y2_values = np.cos(x_values * np.pi)\n",
    "\n",
    "plt.figure(figsize=(10,3), dpi=300) # 10 by 3 inches, 300 dots per inch\n",
    "\n",
    "plt.plot(x_values, y1_values, label='Sine')\n",
    "plt.plot(x_values, y2_values, label='Cosine')\n",
    "\n",
    "plt.legend()\n",
    "plt.xlabel('x', fontsize=16)\n",
    "plt.ylabel('values', fontsize=16)\n",
    "plt.title('Values for sin and cos, scaled by $\\phi_i$')\n",
    "plt.savefig('sin_cos.png', dpi=300)\n",
    "plt.show()\n"
   ]
  },
  {
   "cell_type": "code",
   "execution_count": null,
   "metadata": {},
   "outputs": [],
   "source": [
    "def draw_subplot_sin_cos(index, x_values, ax):\n",
    "    \n",
    "    y_values = np.ones_like(x_values) * index\n",
    "\n",
    "    ax.plot(x_values, y_values, c='r', label='index')\n",
    "\n",
    "    ax.legend()\n",
    "    ax.set_ylim(-1, 4)\n",
    "    ax.set_xlabel('x')\n",
    "    ax.set_ylabel('values')\n",
    "    ax.set_title(f'Values for sin and cos (Subplot #{index})')\n",
    "\n",
    "\n",
    "fig, ax_list = plt.subplots(nrows=2, ncols=2, figsize=(10, 10))\n",
    "\n",
    "i = 0\n",
    "for r, row in enumerate(ax_list):\n",
    "    for c, ax in enumerate(row):\n",
    "        x_values = np.arange(i, i + 10, 0.1)\n",
    "        draw_subplot_sin_cos(i, x_values, ax)\n",
    "        i += 1\n",
    "\n",
    "plt.show()"
   ]
  },
  {
   "cell_type": "markdown",
   "metadata": {},
   "source": [
    "### Confusion matrix"
   ]
  },
  {
   "cell_type": "code",
   "execution_count": null,
   "metadata": {},
   "outputs": [],
   "source": [
    "fig, ax = plt.subplots(figsize=(10,10))\n",
    "\n",
    "color='YlGn'\n",
    "\n",
    "labels = ['Cat', 'Dog', 'Bird']\n",
    "\n",
    "cm = np.array([[0.7, 0.3, 0.2], [0.1, 0.5, 0.4], [0.05, 0.1, 0.85]])\n",
    "heatmap = ax.pcolor(cm, cmap=color)\n",
    "fig.colorbar(heatmap)\n",
    "ax.invert_yaxis()\n",
    "ax.xaxis.tick_top()\n",
    "\n",
    "ax.set_title('Confusion Matrix')\n",
    "ax.set_xlabel('Prediction')\n",
    "ax.set_ylabel('Groud Truth')\n",
    "\n",
    "ax.set_xticks(np.arange(cm.shape[0]) + 0.5, minor=False)\n",
    "ax.set_yticks(np.arange(cm.shape[1]) + 0.5, minor=False)\n",
    "ax.set_xticklabels(labels)\n",
    "ax.set_yticklabels(labels)\n",
    "\n",
    "plt.show()"
   ]
  },
  {
   "cell_type": "code",
   "execution_count": null,
   "metadata": {},
   "outputs": [],
   "source": [
    "img_arr = np.random.random((256, 256))# 0 -> 1\n",
    "print(img_arr.shape)\n",
    "\n",
    "plt.imshow(img_arr, cmap='gray', vmin=0.2, vmax=0.25)\n",
    "plt.show()"
   ]
  },
  {
   "cell_type": "code",
   "execution_count": null,
   "metadata": {},
   "outputs": [],
   "source": [
    "img_arr = np.random.random((256, 256, 3))# R, C, (RGB)\n",
    "print(img_arr.shape)\n",
    "\n",
    "plt.imshow(img_arr, vmin=0, vmax=1)\n",
    "plt.show()"
   ]
  },
  {
   "cell_type": "code",
   "execution_count": null,
   "metadata": {},
   "outputs": [],
   "source": [
    "import seaborn as sns\n",
    "import matplotlib.pyplot as plt\n",
    "\n",
    "# Set the theme for seaborn\n",
    "sns.set_theme(style=\"ticks\")\n",
    "\n",
    "# Load the penguins dataset\n",
    "df = sns.load_dataset(\"penguins\")\n",
    "\n",
    "# Bar Plot: Average bill length by species\n",
    "plt.figure(figsize=(8, 5))\n",
    "sns.barplot(x='species', y='bill_length_mm', data=df, estimator=lambda x: sum(x) / len(x), ci=None)\n",
    "plt.title('Average Bill Length by Species')\n",
    "plt.xlabel('Species')\n",
    "plt.ylabel('Average Bill Length (mm)')\n",
    "plt.show()\n",
    "\n",
    "# New Line Plot: Bill length vs. Flipper length\n",
    "plt.figure(figsize=(10, 5))\n",
    "sns.lineplot(data=df, x='flipper_length_mm', y='bill_length_mm', hue='species', marker='o')\n",
    "plt.title('Bill Length vs. Flipper Length by Species')\n",
    "plt.xlabel('Flipper Length (mm)')\n",
    "plt.ylabel('Bill Length (mm)')\n",
    "plt.legend(title='Species')\n",
    "plt.show()\n",
    "\n",
    "# Box Plot: Bill length distribution by species\n",
    "plt.figure(figsize=(8, 5))\n",
    "sns.boxplot(x='species', y='bill_length_mm', data=df)\n",
    "plt.title('Box Plot of Bill Length by Species')\n",
    "plt.xlabel('Species')\n",
    "plt.ylabel('Bill Length (mm)')\n",
    "plt.show()\n",
    "\n",
    "# Scatter Plot Matrix\n",
    "# Using pairplot to create a scatter plot matrix for numerical features\n",
    "sns.pairplot(df, hue='species', vars=['bill_length_mm', 'bill_depth_mm', 'flipper_length_mm', 'body_mass_g'])\n",
    "plt.suptitle('Scatter Plot Matrix of Penguins', y=1.02)\n",
    "plt.show()"
   ]
  },
  {
   "cell_type": "markdown",
   "metadata": {},
   "source": [
    "## Pandas\n",
    "\n",
    "[Pandas](https://pandas.pydata.org/) is a library for (large scale) tabular data manipulation and analysis. \n",
    "\n",
    "\n",
    "\n"
   ]
  },
  {
   "cell_type": "code",
   "execution_count": null,
   "metadata": {},
   "outputs": [],
   "source": [
    "# Install pandas if not installed\n",
    "!pip install pandas\n",
    "\n",
    "# Import pandas\n",
    "import pandas as pd"
   ]
  },
  {
   "cell_type": "markdown",
   "metadata": {},
   "source": [
    "### File operations"
   ]
  },
  {
   "cell_type": "code",
   "execution_count": null,
   "metadata": {},
   "outputs": [],
   "source": [
    "# load the tips dataset, which includes information about tips and other information about the customers\n",
    "df = pd.read_csv('tips.csv')\n",
    "\n",
    "print(df.shape) # number of rows and columns\n",
    "print(df.columns) # column names\n",
    "print(df.dtypes) # data types of columns\n",
    "print(df.describe()) # summary statistics\n",
    "print(df.info()) # summary information\n",
    "print(df.head()) # first 5 rows\n",
    "print(df.tail()) # last 5 rows\n",
    "print(df.sample()) # random sample of rows\n",
    "print(df.size) # number of elements in the dataframe\n",
    "print(df.index) # index of the dataframe\n"
   ]
  },
  {
   "cell_type": "code",
   "execution_count": null,
   "metadata": {},
   "outputs": [],
   "source": [
    "# save the first 20 rows to a new csv file\n",
    "df_short = df[:20]\n",
    "df_short.to_csv('tips_short.csv', index=False)"
   ]
  },
  {
   "cell_type": "markdown",
   "metadata": {},
   "source": [
    "### Data Manipulation"
   ]
  },
  {
   "cell_type": "code",
   "execution_count": null,
   "metadata": {},
   "outputs": [],
   "source": [
    "subset_df = df[['tip', 'sex']] # note the double brackets\n",
    "print(subset_df)\n",
    "\n",
    "high_tip_df = df[df['tip'] > 5]\n",
    "print(high_tip_df)\n",
    "\n",
    "high_tip_non_smoker_df = df[(df['tip'] > 5) & (df['smoker'] == 'No')]\n",
    "print(high_tip_non_smoker_df)"
   ]
  },
  {
   "cell_type": "code",
   "execution_count": null,
   "metadata": {},
   "outputs": [],
   "source": [
    "# create a new column for the tip percentage\n",
    "df['tip_percentage'] = df['tip'] / df['total_bill'] # element-wise operation\n",
    "print(df.head())\n",
    "\n",
    "# drop the tip_percentage column\n",
    "df = df.drop(columns=['tip_percentage'])\n",
    "print(df.head())"
   ]
  },
  {
   "cell_type": "code",
   "execution_count": null,
   "metadata": {},
   "outputs": [],
   "source": [
    "# you can use the loc function to manipulate the column element-wise\n",
    "# increase the tip by 10% for smokers and divide by 2 for non-smokers\n",
    "df.loc[df['smoker'] == 'Yes', 'tip_new'] = df.loc[df['smoker'] == 'Yes', 'tip'] * 1.1\n",
    "df.loc[df['smoker'] == 'No', 'tip_new'] = df.loc[df['smoker'] == 'No', 'tip'] / 2\n",
    "\n",
    "# show some smokers == \"Yes\"\n",
    "print(df[df['smoker'] == 'Yes'].head())\n",
    "\n",
    "# show some smokers == \"No\"\n",
    "print(df[df['smoker'] == 'No'].head())"
   ]
  },
  {
   "cell_type": "markdown",
   "metadata": {},
   "source": [
    "### Create dataframe\n",
    "\n",
    "You can create dataframe from dictionary, numpy array, or other data formats."
   ]
  },
  {
   "cell_type": "code",
   "execution_count": null,
   "metadata": {},
   "outputs": [],
   "source": [
    "data_dict = {'number': [3, 2, 1, 0],\n",
    "        'letter': ['a', 'b', 'c', 'd']}\n",
    "\n",
    "df = pd.DataFrame.from_dict(data_dict)\n",
    "print(df)"
   ]
  },
  {
   "cell_type": "markdown",
   "metadata": {},
   "source": [
    "### Simple plotting\n",
    "\n",
    "Pandas also support plotting though essentially built on Matplotlib. Pandas plotting provides a quick way to visualize, while you might still need to resort to Matplotlib for more formal plots with higher flexibility."
   ]
  },
  {
   "cell_type": "code",
   "execution_count": null,
   "metadata": {},
   "outputs": [],
   "source": [
    "# Pandas can create quick plots, but it is built on Matplotlib so you import matplotlib\n",
    "import matplotlib.pyplot as plt\n",
    "\n",
    "df = pd.read_csv('tips.csv')\n",
    "\n",
    "\n",
    "df['total_bill'].plot(kind='hist')\n",
    "plt.show()\n",
    "\n",
    "df['total_bill'].plot(kind='box')\n",
    "plt.show()\n",
    "\n",
    "df['total_bill'].plot(kind='density')\n",
    "plt.show()\n",
    "\n"
   ]
  },
  {
   "cell_type": "markdown",
   "metadata": {},
   "source": [
    "## Play with Your Data - In-Class Assignment"
   ]
  },
  {
   "cell_type": "markdown",
   "metadata": {},
   "source": [
    "Step 0: Import necessary libraries"
   ]
  },
  {
   "cell_type": "code",
   "execution_count": null,
   "metadata": {},
   "outputs": [],
   "source": [
    "import pandas as pd\n",
    "import matplotlib.pyplot as plt\n",
    "import seaborn as sns\n",
    "import numpy as np\n",
    "\n",
    "# load the titanic dataset\n",
    "titanic_data = pd.read_csv('titanic.csv')\n",
    "\n",
    "titanic_data.head()"
   ]
  },
  {
   "cell_type": "markdown",
   "metadata": {},
   "source": [
    "Task 1: Calculate overall survival rate"
   ]
  },
  {
   "cell_type": "code",
   "execution_count": null,
   "metadata": {},
   "outputs": [],
   "source": [
    "# Calculate overall survival rate\n",
    "overall_survival_rate = titanic_data['survived'].mean() * 100\n",
    "print(f'Overall Survival Rate: {overall_survival_rate:.2f}%')"
   ]
  },
  {
   "cell_type": "markdown",
   "metadata": {},
   "source": [
    "Task 2: Calculate and print the survival rates by gender ('sex'), passenger class ('class'), and embarkation point ('embarked').\n",
    "\n"
   ]
  },
  {
   "cell_type": "code",
   "execution_count": null,
   "metadata": {},
   "outputs": [],
   "source": [
    "# Calculate survival rates by gender\n",
    "survival_rate_by_gender = df.groupby('sex')['survived'].mean() * 100\n",
    "print('Survival Rate by Gender:')\n",
    "print(survival_rate_by_gender)\n",
    "\n",
    "# Calculate survival rates by passenger class\n",
    "survival_rate_by_class = df.groupby('class')['survived'].mean() * 100\n",
    "print('Survival Rate by Passenger Class:')\n",
    "print(survival_rate_by_class)\n",
    "\n",
    "# Calculate survival rates by embarkation point\n",
    "survival_rate_by_embarked = df.groupby('embarked')['survived'].mean() * 100\n",
    "print('Survival Rate by Embarkation Point:')\n",
    "print(survival_rate_by_embarked)"
   ]
  },
  {
   "cell_type": "markdown",
   "metadata": {},
   "source": [
    "Task 3: Calculate the survival rate by age group (e.g., under 12 as child, 13-20 as teen, 21-40 as adult, 41-60 as middle-aged, above 61 as senior)."
   ]
  },
  {
   "cell_type": "code",
   "execution_count": null,
   "metadata": {},
   "outputs": [],
   "source": [
    "# Manipulate age groups\n",
    "bins = [0, 12, 20, 40, 60, np.inf]\n",
    "labels = ['Child', 'Teen', 'Adult', 'Middle-Aged', 'Senior']\n",
    "titanic_data['age_group'] = pd.cut(titanic_data['age'], bins=bins, labels=labels)\n",
    "\n",
    "# Calculate survival rates by age group\n",
    "survival_rate_by_age_group = titanic_data.groupby('age_group')['survived'].mean() * 100\n",
    "print('Survival Rate by Age Group:')\n",
    "print(survival_rate_by_age_group)"
   ]
  },
  {
   "cell_type": "markdown",
   "metadata": {},
   "source": [
    "Task 4: Create a box plot for age distribution by survival."
   ]
  },
  {
   "cell_type": "code",
   "execution_count": null,
   "metadata": {},
   "outputs": [],
   "source": [
    "# Create a box plot for age distribution by survival\n",
    "plt.figure(figsize=(10, 6))\n",
    "sns.boxplot(x='survived', y='age', data=titanic_data)\n",
    "plt.title('Age Distribution of Survivors vs. Non-Survivors')\n",
    "plt.xlabel('Survived')\n",
    "plt.ylabel('Age')\n",
    "plt.xticks([0, 1], ['Did Not Survive', 'Survived'])  # Rename x-ticks for clarity\n",
    "plt.show()"
   ]
  },
  {
   "cell_type": "markdown",
   "metadata": {},
   "source": [
    "Task 5: Create a stacked bar chart to visualize the distribution of Titanic passengers by class, using different colors to represent survival status within each class."
   ]
  },
  {
   "cell_type": "code",
   "execution_count": null,
   "metadata": {},
   "outputs": [],
   "source": [
    "import matplotlib.pyplot as plt\n",
    "\n",
    "# Visualize the distribution of passengers based on class and sex using bar charts\n",
    "class_sex_dist = titanic_data.groupby(['class', 'survived']).size().unstack()\n",
    "\n",
    "# Plot the bar chart\n",
    "class_sex_dist.plot(kind='bar', stacked=True)\n",
    "plt.title('Distribution of Passengers by Class and Survival')\n",
    "plt.ylabel('Number of Passengers')\n",
    "plt.xlabel('Class')\n",
    "plt.xticks(rotation=0)\n",
    "plt.show()"
   ]
  },
  {
   "cell_type": "markdown",
   "metadata": {},
   "source": []
  },
  {
   "cell_type": "markdown",
   "metadata": {},
   "source": [
    "**Open-Ended Questions:** From our analysis, some more in-depth questions can be raised. Please discuss and attempt to answer them by using Python to perform data analysis and visualizations to support your claims. Keep in mind that there are no definitive answers to these questions.\n",
    "\n",
    "Question 1: Given, from task 2, the survival rates by embarkation point are as follows:\n",
    "\n",
    "| Embarkation Point | Survival Rate (%) |\n",
    "|-------------------|--------------------|\n",
    "| C                 | 55.36              |\n",
    "| Q                 | 38.96              |\n",
    "| S                 | 33.70              |\n",
    "\n",
    "does this indicate that Port C is the best embarkation point for increasing the chances of survival?"
   ]
  },
  {
   "cell_type": "code",
   "execution_count": null,
   "metadata": {},
   "outputs": [],
   "source": [
    "# Your Q1 code here"
   ]
  },
  {
   "cell_type": "markdown",
   "metadata": {},
   "source": [
    "**Your Q1 discussion here:**"
   ]
  },
  {
   "cell_type": "markdown",
   "metadata": {},
   "source": []
  },
  {
   "cell_type": "markdown",
   "metadata": {},
   "source": [
    "Question 2: Given, from task 3, the survival rates by age group are as follows:\n",
    "\n",
    "| Age Group | Survival Rate (%) |\n",
    "|-----------|--------------------|\n",
    "| Child     | 57.97              |\n",
    "| Teen      | 38.18              |\n",
    "| Adult     | 39.74              |\n",
    "| Middle-Aged| 39.06              |\n",
    "| Senior    | 22.73              |\n",
    "\n",
    "Does this indicate that senior passengers were less taken care of?\n",
    "\n"
   ]
  },
  {
   "cell_type": "code",
   "execution_count": null,
   "metadata": {},
   "outputs": [],
   "source": [
    "# Your Q2 code here"
   ]
  },
  {
   "cell_type": "markdown",
   "metadata": {},
   "source": []
  },
  {
   "cell_type": "markdown",
   "metadata": {},
   "source": [
    "**Your Q2 discussion here:**"
   ]
  },
  {
   "cell_type": "markdown",
   "metadata": {},
   "source": []
  }
 ],
 "metadata": {
  "kernelspec": {
   "display_name": "Python 3",
   "language": "python",
   "name": "python3"
  },
  "language_info": {
   "codemirror_mode": {
    "name": "ipython",
    "version": 3
   },
   "file_extension": ".py",
   "mimetype": "text/x-python",
   "name": "python",
   "nbconvert_exporter": "python",
   "pygments_lexer": "ipython3",
   "version": "3.12.1"
  }
 },
 "nbformat": 4,
 "nbformat_minor": 2
}
